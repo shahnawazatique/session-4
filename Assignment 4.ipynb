{
 "cells": [
  {
   "cell_type": "code",
   "execution_count": 1,
   "id": "17c1efbb-8e02-4795-8a70-9a31d0f9d623",
   "metadata": {},
   "outputs": [
    {
     "ename": "NameError",
     "evalue": "name 'Shahnawaz' is not defined",
     "output_type": "error",
     "traceback": [
      "\u001b[1;31m---------------------------------------------------------------------------\u001b[0m",
      "\u001b[1;31mNameError\u001b[0m                                 Traceback (most recent call last)",
      "Cell \u001b[1;32mIn[1], line 1\u001b[0m\n\u001b[1;32m----> 1\u001b[0m Shahnawaz\n",
      "\u001b[1;31mNameError\u001b[0m: name 'Shahnawaz' is not defined"
     ]
    }
   ],
   "source": [
    "Shahnawaz\n"
   ]
  },
  {
   "cell_type": "code",
   "execution_count": 2,
   "id": "9cc66fe5-eb60-4efb-9fa9-2e8f1e9894ea",
   "metadata": {},
   "outputs": [
    {
     "data": {
      "text/plain": [
       "'Shahnawaz'"
      ]
     },
     "execution_count": 2,
     "metadata": {},
     "output_type": "execute_result"
    }
   ],
   "source": [
    "\"Shahnawaz\""
   ]
  },
  {
   "cell_type": "code",
   "execution_count": 3,
   "id": "b96c61c3-dca8-4936-8022-5ac5002a6147",
   "metadata": {},
   "outputs": [
    {
     "name": "stdout",
     "output_type": "stream",
     "text": [
      "After replacing spaces: hello_python_world\n",
      "After splitting: ['hello', 'python', 'world']\n"
     ]
    }
   ],
   "source": [
    "# original string\n",
    "text = 'hello python world'\n",
    "\n",
    "# 1) Replace spaces with underscores\n",
    "modified_text = text.replace(\" \", \"_\")\n",
    "print(\"After replacing spaces:\", modified_text)\n",
    "\n",
    "# 2) Split the modified string\n",
    "split_text = modified_text.split(\"_\")\n",
    "print(\"After splitting:\", split_text)\n",
    "\n"
   ]
  },
  {
   "cell_type": "code",
   "execution_count": 4,
   "id": "d43ecaf7-9b18-4e57-8763-dd0e1f203e37",
   "metadata": {},
   "outputs": [
    {
     "name": "stdout",
     "output_type": "stream",
     "text": [
      "First dash position: 3\n",
      "Number of dashes: 2\n",
      "Numeric part: 12345\n"
     ]
    }
   ],
   "source": [
    "# product code\n",
    "product_code = \"SKU-12345-XYZ\"\n",
    "\n",
    "# 1) Find the first position of the dash (-)\n",
    "first_dash = product_code.find(\"-\")\n",
    "print(\"First dash position:\", first_dash)\n",
    "\n",
    "# 2) Count the number of dashes (-)\n",
    "dash_count = product_code.count(\"-\")\n",
    "print(\"Number of dashes:\", dash_count)\n",
    "\n",
    "# 3) Remove \"SKU-\" prefix and \"-XYZ\" suffix → Extract numeric part\n",
    "numeric_part = product_code.replace(\"SKU-\", \"\").replace(\"-XYZ\", \"\")\n",
    "print(\"Numeric part:\", numeric_part)\n"
   ]
  },
  {
   "cell_type": "code",
   "execution_count": 5,
   "id": "812a2f53-329c-4cf9-a181-771749f691be",
   "metadata": {},
   "outputs": [
    {
     "name": "stdout",
     "output_type": "stream",
     "text": [
      "Title Case: Hello World\n"
     ]
    }
   ],
   "source": [
    "text_1 = \"hello world\"\n",
    "\n",
    "# Convert to Title Case\n",
    "title_case = text_1.title()\n",
    "\n",
    "print(\"Title Case:\", title_case)\n",
    "\n"
   ]
  },
  {
   "cell_type": "code",
   "execution_count": 6,
   "id": "41931abe-76f1-42c7-8b4f-46f71784a1bc",
   "metadata": {},
   "outputs": [
    {
     "name": "stdout",
     "output_type": "stream",
     "text": [
      "Capitalized: Python programming\n"
     ]
    }
   ],
   "source": [
    "text_2 = \"python programming\"\n",
    "\n",
    "# Capitalize the first letter\n",
    "capitalized_text = text_2.capitalize()\n",
    "\n",
    "print(\"Capitalized:\", capitalized_text)\n"
   ]
  },
  {
   "cell_type": "code",
   "execution_count": 8,
   "id": "29a0db40-2775-4234-ba05-2d35fad0a577",
   "metadata": {},
   "outputs": [
    {
     "name": "stdout",
     "output_type": "stream",
     "text": [
      "Learning Python Is Awesome\n"
     ]
    }
   ],
   "source": [
    "text1 = \"learning PYTHON is AWESOME\"\n",
    "step1 = text1.title()\n",
    "print(step1)\n"
   ]
  },
  {
   "cell_type": "code",
   "execution_count": 9,
   "id": "f862ff71-6cd8-4989-9c85-85de74512b37",
   "metadata": {},
   "outputs": [
    {
     "name": "stdout",
     "output_type": "stream",
     "text": [
      "Final Result: lEARNING pYTHON iS aWESOME\n"
     ]
    }
   ],
   "source": [
    "final_result = step1.swapcase()\n",
    "\n",
    "print(\"Final Result:\", final_result)"
   ]
  },
  {
   "cell_type": "code",
   "execution_count": 10,
   "id": "941d71ea-0a76-458e-ad0f-244c8ab5adba",
   "metadata": {},
   "outputs": [
    {
     "name": "stdout",
     "output_type": "stream",
     "text": [
      "Is Alphanumeric? True\n",
      "Is Alphabetic only? False\n"
     ]
    }
   ],
   "source": [
    "text2 = \"HelloWorld123\"\n",
    "\n",
    "print(\"Is Alphanumeric?\", text2.isalnum())   # Letters + Numbers allowed\n",
    "print(\"Is Alphabetic only?\", text2.isalpha()) # Sirf Letters allowed\n"
   ]
  },
  {
   "cell_type": "code",
   "execution_count": 11,
   "id": "d57a33a7-1a9c-4642-add5-d00819c18e4d",
   "metadata": {},
   "outputs": [
    {
     "name": "stdout",
     "output_type": "stream",
     "text": [
      "Is the string made up of digits only? False\n",
      "Is the string all lowercase? True\n"
     ]
    }
   ],
   "source": [
    "text3 = \"helloworld\"\n",
    "\n",
    "print(\"Is the string made up of digits only?\", text3.isdigit())\n",
    "print(\"Is the string all lowercase?\", text3.islower())\n"
   ]
  },
  {
   "cell_type": "code",
   "execution_count": 12,
   "id": "44b11ff7-52f2-48d0-bf14-98ca7e781deb",
   "metadata": {},
   "outputs": [
    {
     "name": "stdout",
     "output_type": "stream",
     "text": [
      "Is the string all uppercase? False\n",
      "Is the string titlecased? True\n"
     ]
    }
   ],
   "source": [
    "text4 = \"Hi We Are Learning Python\"\n",
    "\n",
    "print(\"Is the string all uppercase?\", text4.isupper())\n",
    "print(\"Is the string titlecased?\", text4.istitle())\n"
   ]
  },
  {
   "cell_type": "code",
   "execution_count": 16,
   "id": "1731f9e8-bec2-4031-8637-13344fc2ef36",
   "metadata": {},
   "outputs": [
    {
     "name": "stdout",
     "output_type": "stream",
     "text": [
      "Starts with 'data'? True\n",
      "Ends with '.csv'? True\n"
     ]
    }
   ],
   "source": [
    "text5 = \"data_report_2023.csv\"\n",
    "\n",
    "print(\"Starts with 'data'?\", text5.startswith(\"data\"))\n",
    "print(\"Ends with '.csv'?\", text5.endswith(\".csv\"))\n",
    "\n"
   ]
  },
  {
   "cell_type": "code",
   "execution_count": 17,
   "id": "cc2c6d6f-2afb-4d08-9677-f5f41c0609a3",
   "metadata": {},
   "outputs": [
    {
     "name": "stdout",
     "output_type": "stream",
     "text": [
      "banana appears: 2 times\n"
     ]
    }
   ],
   "source": [
    "fruit = \"banana bandana banana\"\n",
    "\n",
    "count = fruit.count(\"banana\")\n",
    "\n",
    "print(\"banana appears:\", count, \"times\")\n"
   ]
  },
  {
   "cell_type": "code",
   "execution_count": null,
   "id": "3ad2835f-0ccd-4995-9237-f2bcda9a0970",
   "metadata": {},
   "outputs": [],
   "source": []
  }
 ],
 "metadata": {
  "kernelspec": {
   "display_name": "Python [conda env:base] *",
   "language": "python",
   "name": "conda-base-py"
  },
  "language_info": {
   "codemirror_mode": {
    "name": "ipython",
    "version": 3
   },
   "file_extension": ".py",
   "mimetype": "text/x-python",
   "name": "python",
   "nbconvert_exporter": "python",
   "pygments_lexer": "ipython3",
   "version": "3.13.5"
  }
 },
 "nbformat": 4,
 "nbformat_minor": 5
}
