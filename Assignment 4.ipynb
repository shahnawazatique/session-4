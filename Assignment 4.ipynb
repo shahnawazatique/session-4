{
 "cells": [
  {
   "cell_type": "code",
   "execution_count": 1,
   "id": "17c1efbb-8e02-4795-8a70-9a31d0f9d623",
   "metadata": {},
   "outputs": [
    {
     "ename": "NameError",
     "evalue": "name 'Shahnawaz' is not defined",
     "output_type": "error",
     "traceback": [
      "\u001b[1;31m---------------------------------------------------------------------------\u001b[0m",
      "\u001b[1;31mNameError\u001b[0m                                 Traceback (most recent call last)",
      "Cell \u001b[1;32mIn[1], line 1\u001b[0m\n\u001b[1;32m----> 1\u001b[0m Shahnawaz\n",
      "\u001b[1;31mNameError\u001b[0m: name 'Shahnawaz' is not defined"
     ]
    }
   ],
   "source": [
    "Shahnawaz\n"
   ]
  },
  {
   "cell_type": "code",
   "execution_count": 2,
   "id": "9cc66fe5-eb60-4efb-9fa9-2e8f1e9894ea",
   "metadata": {},
   "outputs": [
    {
     "data": {
      "text/plain": [
       "'Shahnawaz'"
      ]
     },
     "execution_count": 2,
     "metadata": {},
     "output_type": "execute_result"
    }
   ],
   "source": [
    "\"Shahnawaz\""
   ]
  },
  {
   "cell_type": "code",
   "execution_count": null,
   "id": "b96c61c3-dca8-4936-8022-5ac5002a6147",
   "metadata": {},
   "outputs": [],
   "source": []
  }
 ],
 "metadata": {
  "kernelspec": {
   "display_name": "Python [conda env:base] *",
   "language": "python",
   "name": "conda-base-py"
  },
  "language_info": {
   "codemirror_mode": {
    "name": "ipython",
    "version": 3
   },
   "file_extension": ".py",
   "mimetype": "text/x-python",
   "name": "python",
   "nbconvert_exporter": "python",
   "pygments_lexer": "ipython3",
   "version": "3.13.5"
  }
 },
 "nbformat": 4,
 "nbformat_minor": 5
}
